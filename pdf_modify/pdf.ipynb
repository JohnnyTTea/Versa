{
 "cells": [
  {
   "cell_type": "code",
   "execution_count": 26,
   "metadata": {},
   "outputs": [],
   "source": [
    "from PyPDF2 import PdfReader, PdfWriter\n",
    "import io\n",
    "from reportlab.pdfgen import canvas\n",
    "from reportlab.lib.pagesizes import letter\n",
    "from reportlab.pdfbase.ttfonts import TTFont\n",
    "from PyPDF2.generic import AnnotationBuilder\n",
    "import re\n",
    "import csv"
   ]
  },
  {
   "cell_type": "code",
   "execution_count": null,
   "metadata": {},
   "outputs": [],
   "source": [
    "from fpdf import FPDF\n",
    "\n",
    "# Save text as a text file\n",
    "text = \"0XXXAA 9-T-ASSA                 1XXXXX 8-TR-XX00A               2-XXXXX  7-TT-21222122\"\n",
    "text_file_path = \"text.txt\"\n",
    "\n",
    "with open(text_file_path, \"w\") as text_file:\n",
    "    text_file.write(text)\n",
    "\n",
    "# Convert text file to PDF\n",
    "pdf_file_path = \"text.pdf\"\n",
    "\n",
    "pdf = FPDF()\n",
    "pdf.add_page()\n",
    "pdf.set_font(\"Arial\", size=8)\n",
    "\n",
    "with open(text_file_path, \"r\") as text_file:\n",
    "    for line in text_file:\n",
    "        pdf.cell(0, 10, txt=line, ln=True)\n",
    "\n",
    "pdf.output(pdf_file_path)\n",
    "\n",
    "print(\"Text converted to PDF successfully!\")"
   ]
  },
  {
   "cell_type": "code",
   "execution_count": 32,
   "metadata": {},
   "outputs": [
    {
     "name": "stdout",
     "output_type": "stream",
     "text": [
      "Numbers saved to numbers.csv\n"
     ]
    }
   ],
   "source": [
    "with open('DTO 35 20230614.pdf','rb') as fp:\n",
    "    reader=PdfReader(fp)\n",
    "    length=len(reader.pages)\n",
    "    page=reader.pages[0]\n",
    "    text=page.extract_text()\n",
    "\n",
    "def find_pattern_digits(string):\n",
    "    pattern = r'\\*(\\d+)\\*'\n",
    "    matches = re.findall(pattern, string)\n",
    "    return matches\n",
    "# Example usage\n",
    "digits = find_pattern_digits(text)\n",
    "\n",
    "# Save digits to a CSV file\n",
    "csv_file = 'numbers.csv'\n",
    "\n",
    "with open(csv_file, 'w', newline='') as file:\n",
    "    writer = csv.writer(file)\n",
    "    # writer.writerow(['Number'])\n",
    "\n",
    "    for digit in digits:\n",
    "        writer.writerow([digit])\n",
    "\n",
    "print(\"Numbers saved to\", csv_file)"
   ]
  },
  {
   "cell_type": "code",
   "execution_count": null,
   "metadata": {},
   "outputs": [],
   "source": [
    "###Label\n",
    "label_height=20\n",
    "###\n",
    "\n",
    "##Top Margin\n",
    "top_margin=30"
   ]
  },
  {
   "cell_type": "code",
   "execution_count": null,
   "metadata": {},
   "outputs": [],
   "source": [
    "input_file_path = 'annotated.pdf'\n",
    "\n",
    "left_margin = right_margin = 80\n",
    "top_margin = 130\n",
    "bottom_margin = 80\n",
    "#这里要手动输入,自己手动调参一下,根据裁剪的结果\n",
    "\n",
    "def split(page):\n",
    "    page.mediaBox.upperLeft = (0, 0)\n",
    "    page.mediaBox.upperRight = (0,0)\n",
    "    page.mediaBox.lowerLeft = (left_margin, height-bottom_margin)\n",
    "    page.mediaBox.lowerRight = (width - right_margin, height-bottom_margin)\n",
    "\n",
    "    \n",
    "input_file = PdfReader(open(input_file_path, 'rb'))\n",
    "text_file=PdfReader(open('text.pdf','rb'))\n",
    "output_file = PdfWriter()\n",
    "page_info = input_file.getPage(0)# 以第一页为标准获得宽度和高度\n",
    "width = float(page_info.mediaBox.getWidth())   #宽度 \n",
    "height = float(page_info.mediaBox.getHeight()) #高度\n",
    "print(width,height)#打印pdf原有的宽高\n",
    "# page_count = input_file.getNumPages()  # 统计页数\n",
    "page_count=1\n",
    "\n",
    "for page_num in range(page_count):\n",
    "    this_page = input_file.getPage(page_num)\n",
    "    text_page=text_file.getPage(0)\n",
    "    split(this_page)\n",
    "    output_file.addPage(this_page)\n",
    "    \n",
    "    output_file.write(open('cutted1.pdf', 'wb'))"
   ]
  },
  {
   "cell_type": "code",
   "execution_count": null,
   "metadata": {},
   "outputs": [],
   "source": [
    "writer=PdfWriter()\n",
    "reader1=PdfReader('cutted.pdf','rb')\n",
    "reader1_page=reader1.getPage(0)\n",
    "reader2=PdfReader('cutted.pdf','rb')\n",
    "reader2_page=reader2.getPage(0)\n",
    "\n",
    "with open('combined.pdf','wb') as fp:\n",
    "    writer.addPage(reader1_page)\n",
    "    writer.addPage(reader2_page)\n",
    "    writer.write(fp)"
   ]
  },
  {
   "cell_type": "code",
   "execution_count": null,
   "metadata": {},
   "outputs": [],
   "source": [
    "reader=PdfReader(\"example.pdf\")\n",
    "page=reader.pages[0]\n",
    "writer=PdfWriter()\n",
    "writer.addPage(page)\n",
    "annotation = AnnotationBuilder.free_text(\n",
    "    \"Hello World\\nThis is the second line!\",\n",
    "    rect=(50, 25, 100, 100),\n",
    "    font=\"Arial\",\n",
    "    bold=True,\n",
    "    italic=True,\n",
    "    font_size=\"20pt\",\n",
    "    font_color=\"00ff00\",\n",
    "    border_color=\"0000ff\",\n",
    "    background_color=\"000000\",\n",
    ")\n",
    "# writer.add_annotation(page_number=0, annotation=annotation)\n",
    "data = b\"any bytes - typically read from a file\"\n",
    "writer.add_attachment('')\n",
    "# Write the annotated file to disk\n",
    "with open(\"annotated-pdf.pdf\", \"wb\") as fp:\n",
    "    writer.write(fp)"
   ]
  },
  {
   "cell_type": "code",
   "execution_count": 2,
   "metadata": {},
   "outputs": [
    {
     "name": "stderr",
     "output_type": "stream",
     "text": [
      "Xref table not zero-indexed. ID numbers for objects will be corrected.\n",
      "Xref table not zero-indexed. ID numbers for objects will be corrected.\n",
      "Xref table not zero-indexed. ID numbers for objects will be corrected.\n"
     ]
    }
   ],
   "source": [
    "from PyPDF2 import PdfFileReader\n",
    "from reportlab.pdfgen import canvas\n",
    "from reportlab.lib.pagesizes import letter\n",
    "\n",
    "def write_text_to_pdf(input_pdf_path, output_pdf_path, text):\n",
    "    pdf = PdfFileReader(input_pdf_path)\n",
    "    num_pages = pdf.getNumPages()\n",
    "\n",
    "    with open(output_pdf_path, 'wb') as output_file:\n",
    "        writer = canvas.Canvas(output_file, pagesize=letter)\n",
    "\n",
    "        for page_num in range(num_pages):\n",
    "            page = pdf.getPage(page_num)\n",
    "            width = float(page.mediaBox[2])\n",
    "            height = float(page.mediaBox[3])\n",
    "            writer.setPageSize((width, height))\n",
    "            writer.showPage()\n",
    "\n",
    "            writer.setFont(\"Helvetica\", 12)\n",
    "            writer.drawCentredString(width / 2, 30, text)\n",
    "\n",
    "        writer.save()\n",
    "\n",
    "# Usage example\n",
    "input_pdf = 'example.pdf'\n",
    "output_pdf = 'output.pdf'\n",
    "text_to_add = 'This text is added to the PDF.'\n",
    "write_text_to_pdf(input_pdf, output_pdf, text_to_add)"
   ]
  },
  {
   "cell_type": "code",
   "execution_count": null,
   "metadata": {},
   "outputs": [],
   "source": []
  }
 ],
 "metadata": {
  "kernelspec": {
   "display_name": "Python 3",
   "language": "python",
   "name": "python3"
  },
  "language_info": {
   "codemirror_mode": {
    "name": "ipython",
    "version": 3
   },
   "file_extension": ".py",
   "mimetype": "text/x-python",
   "name": "python",
   "nbconvert_exporter": "python",
   "pygments_lexer": "ipython3",
   "version": "3.11.2"
  },
  "orig_nbformat": 4
 },
 "nbformat": 4,
 "nbformat_minor": 2
}
