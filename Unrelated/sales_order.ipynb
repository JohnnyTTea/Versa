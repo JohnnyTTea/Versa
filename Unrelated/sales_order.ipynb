{
 "cells": [
  {
   "cell_type": "code",
   "execution_count": 2,
   "metadata": {},
   "outputs": [],
   "source": [
    "from tkinter import *\n",
    "from tkinter import filedialog,messagebox,ttk,simpledialog\n",
    "import pandas as pd\n",
    "import os\n",
    "from datetime import date\n",
    "import numpy as np\n",
    "import csv\n",
    "import mysql.connector\n",
    "import datetime"
   ]
  },
  {
   "cell_type": "code",
   "execution_count": 3,
   "metadata": {},
   "outputs": [],
   "source": [
    "###DATABASE CONFIGURATION\n",
    "#Configuration\n",
    "config_aisdata={'host':'192.168.26.50',\n",
    "                'database':'aisdata',\n",
    "                'user':'root',\n",
    "                'password':'ais123'\n",
    "                }\n",
    "config_aisdata0={'host':'192.168.26.50',\n",
    "                'database':'aisdata0',\n",
    "                'user':'root',\n",
    "                'password':'ais123'\n",
    "                }\n",
    "config_aisdata1={'host':'192.168.26.50',\n",
    "                'database':'aisdata1',\n",
    "                'user':'root',\n",
    "                'password':'ais123'\n",
    "                }\n",
    "\n",
    "##DATABASE QUERY\n",
    "AIS_SO='''\n",
    "SELECT\n",
    "saord.Trno AS SalesOrder_No, saord.Trdate AS SalesOrder_Date, saord.Trorig1 AS Sell_Market, saord.Trorig2 AS Sell_Acc, saord.Ordno AS SHIPPER_REF,\n",
    "saord.Compno AS Cust_ID, saord.Scompany AS ShipTo_CustomerName, saord.Cpono AS Cust_PO, saord.Shipvia AS Ship_VIA, saord.Freight,\n",
    "saord.Sstatus AS Ship_Status, saord.Sdate AS Ship_Date, saord.Stracno AS Tracking_No,\n",
    "saordl.Itemno AS Order_Item_SKU, saordl.Ordqty AS Order_QTY,\n",
    "saord.Company AS BuyerName, saord.Email1 AS BuyerEmail, saord.addr1 AS BuyerAdd1, saord.addr2 AS BuyerAdd2, saord.City AS BuyerCity, saord.State AS BuyerState, saord.Zip AS BuyerZip, saord.Country AS BuyerCountry,\n",
    "saord.Scompany AS ST_Name, saord.Sphone1 AS ST_Phone, saord.Saddr1 AS ST_Add1, saord.Saddr2 AS ST_Add2, saord.Scity AS ST_City, saord.Sstate AS ST_State, saord.Szip AS ST_Zip, saord.Scountry AS ST_Country,\n",
    "saord.Subamt AS SUBAMT, saord.Taxamt1 AS TAX, saord.Totamt AS TOTAMT, saordl.Lnno AS LN\n",
    "FROM saord, saordl\n",
    "WHERE saord.Trno = saordl.Trno\n",
    "AND saord.Trdate >= '2022-05-01'\n",
    "ORDER BY saordl.Lnno ASC\n",
    "LIMIT 10000;\n",
    "'''\n",
    "AIS_ITEM_BIN='''\n",
    "SELECT * FROM itemwhse\n",
    "WHERE Whse <> 'X-W'\n",
    "AND Whse <> '3'\n",
    "AND Bin <> ' '\n",
    "AND Onhand > '0'\n",
    "ORDER BY Bin ASC;\n",
    "'''\n"
   ]
  },
  {
   "cell_type": "code",
   "execution_count": null,
   "metadata": {},
   "outputs": [],
   "source": []
  }
 ],
 "metadata": {
  "kernelspec": {
   "display_name": "Python 3",
   "language": "python",
   "name": "python3"
  },
  "language_info": {
   "codemirror_mode": {
    "name": "ipython",
    "version": 3
   },
   "file_extension": ".py",
   "mimetype": "text/x-python",
   "name": "python",
   "nbconvert_exporter": "python",
   "pygments_lexer": "ipython3",
   "version": "3.11.2"
  },
  "orig_nbformat": 4
 },
 "nbformat": 4,
 "nbformat_minor": 2
}
